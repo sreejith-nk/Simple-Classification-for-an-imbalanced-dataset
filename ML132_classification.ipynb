{
  "nbformat": 4,
  "nbformat_minor": 0,
  "metadata": {
    "colab": {
      "name": "ML132_classification.ipynb",
      "provenance": []
    },
    "kernelspec": {
      "name": "python3",
      "display_name": "Python 3"
    },
    "language_info": {
      "name": "python"
    }
  },
  "cells": [
    {
      "cell_type": "markdown",
      "source": [
        "#Sreejith N ML132_Classification"
      ],
      "metadata": {
        "id": "I2TvKyVV0fHE"
      }
    },
    {
      "cell_type": "code",
      "source": [
        "import pandas as pd\n",
        "import seaborn as sns\n",
        "import matplotlib.pyplot as plt"
      ],
      "metadata": {
        "id": "nu8d25-69lqB"
      },
      "execution_count": null,
      "outputs": []
    },
    {
      "cell_type": "markdown",
      "source": [
        "##Data Visualization"
      ],
      "metadata": {
        "id": "vnavDum8K3bT"
      }
    },
    {
      "cell_type": "markdown",
      "source": [
        "importing dataset"
      ],
      "metadata": {
        "id": "6n_2dBiztYht"
      }
    },
    {
      "cell_type": "code",
      "execution_count": null,
      "metadata": {
        "id": "FwAzb2V89MzJ"
      },
      "outputs": [],
      "source": [
        "train=pd.read_csv(\"/content/drive/MyDrive/MLCOMP/Classification/Train_data_classification.csv\")\n",
        "test=pd.read_csv(\"/content/drive/MyDrive/MLCOMP/Classification/Test_data_classification.csv\")"
      ]
    },
    {
      "cell_type": "code",
      "source": [
        "train"
      ],
      "metadata": {
        "colab": {
          "base_uri": "https://localhost:8080/",
          "height": 424
        },
        "id": "TT1-JUer-FGw",
        "outputId": "16567a71-8049-4ce9-d270-1039e44f9ee6"
      },
      "execution_count": null,
      "outputs": [
        {
          "output_type": "execute_result",
          "data": {
            "text/html": [
              "\n",
              "  <div id=\"df-56b42b96-9eca-4de5-8775-46eab2ee216a\">\n",
              "    <div class=\"colab-df-container\">\n",
              "      <div>\n",
              "<style scoped>\n",
              "    .dataframe tbody tr th:only-of-type {\n",
              "        vertical-align: middle;\n",
              "    }\n",
              "\n",
              "    .dataframe tbody tr th {\n",
              "        vertical-align: top;\n",
              "    }\n",
              "\n",
              "    .dataframe thead th {\n",
              "        text-align: right;\n",
              "    }\n",
              "</style>\n",
              "<table border=\"1\" class=\"dataframe\">\n",
              "  <thead>\n",
              "    <tr style=\"text-align: right;\">\n",
              "      <th></th>\n",
              "      <th>intercolumnar distance</th>\n",
              "      <th>upper margin</th>\n",
              "      <th>lower margin</th>\n",
              "      <th>exploitation</th>\n",
              "      <th>row number</th>\n",
              "      <th>modular ratio</th>\n",
              "      <th>interlinear spacing</th>\n",
              "      <th>weight</th>\n",
              "      <th>peak number</th>\n",
              "      <th>modular ratio</th>\n",
              "      <th>class</th>\n",
              "    </tr>\n",
              "  </thead>\n",
              "  <tbody>\n",
              "    <tr>\n",
              "      <th>0</th>\n",
              "      <td>0.117948</td>\n",
              "      <td>-0.220579</td>\n",
              "      <td>0.367214</td>\n",
              "      <td>0.914608</td>\n",
              "      <td>0.261718</td>\n",
              "      <td>1.353010</td>\n",
              "      <td>1.352689</td>\n",
              "      <td>-0.386503</td>\n",
              "      <td>-0.185368</td>\n",
              "      <td>0.541155</td>\n",
              "      <td>A</td>\n",
              "    </tr>\n",
              "    <tr>\n",
              "      <th>1</th>\n",
              "      <td>0.809204</td>\n",
              "      <td>-0.094960</td>\n",
              "      <td>0.118265</td>\n",
              "      <td>0.987502</td>\n",
              "      <td>0.976743</td>\n",
              "      <td>-0.515608</td>\n",
              "      <td>-0.950086</td>\n",
              "      <td>0.800147</td>\n",
              "      <td>1.155435</td>\n",
              "      <td>0.244286</td>\n",
              "      <td>I</td>\n",
              "    </tr>\n",
              "    <tr>\n",
              "      <th>2</th>\n",
              "      <td>0.080916</td>\n",
              "      <td>0.014957</td>\n",
              "      <td>0.064919</td>\n",
              "      <td>0.346104</td>\n",
              "      <td>0.172340</td>\n",
              "      <td>0.107265</td>\n",
              "      <td>0.446679</td>\n",
              "      <td>0.319927</td>\n",
              "      <td>0.313536</td>\n",
              "      <td>-0.028184</td>\n",
              "      <td>A</td>\n",
              "    </tr>\n",
              "    <tr>\n",
              "      <th>3</th>\n",
              "      <td>-3.461768</td>\n",
              "      <td>-0.204876</td>\n",
              "      <td>-3.210528</td>\n",
              "      <td>-3.441837</td>\n",
              "      <td>-3.045274</td>\n",
              "      <td>-1.636779</td>\n",
              "      <td>-8.953175</td>\n",
              "      <td>3.273029</td>\n",
              "      <td>-3.895963</td>\n",
              "      <td>-5.460407</td>\n",
              "      <td>F</td>\n",
              "    </tr>\n",
              "    <tr>\n",
              "      <th>4</th>\n",
              "      <td>0.056229</td>\n",
              "      <td>-0.730905</td>\n",
              "      <td>0.441898</td>\n",
              "      <td>0.183695</td>\n",
              "      <td>0.261718</td>\n",
              "      <td>1.685209</td>\n",
              "      <td>0.522180</td>\n",
              "      <td>-0.591821</td>\n",
              "      <td>-0.154186</td>\n",
              "      <td>1.319049</td>\n",
              "      <td>A</td>\n",
              "    </tr>\n",
              "    <tr>\n",
              "      <th>...</th>\n",
              "      <td>...</td>\n",
              "      <td>...</td>\n",
              "      <td>...</td>\n",
              "      <td>...</td>\n",
              "      <td>...</td>\n",
              "      <td>...</td>\n",
              "      <td>...</td>\n",
              "      <td>...</td>\n",
              "      <td>...</td>\n",
              "      <td>...</td>\n",
              "      <td>...</td>\n",
              "    </tr>\n",
              "    <tr>\n",
              "      <th>8339</th>\n",
              "      <td>-0.277055</td>\n",
              "      <td>-0.251983</td>\n",
              "      <td>-3.203415</td>\n",
              "      <td>1.957926</td>\n",
              "      <td>0.261718</td>\n",
              "      <td>1.186911</td>\n",
              "      <td>0.408929</td>\n",
              "      <td>2.198386</td>\n",
              "      <td>2.277968</td>\n",
              "      <td>0.952766</td>\n",
              "      <td>X</td>\n",
              "    </tr>\n",
              "    <tr>\n",
              "      <th>8340</th>\n",
              "      <td>0.019197</td>\n",
              "      <td>-0.173471</td>\n",
              "      <td>0.306755</td>\n",
              "      <td>-0.081535</td>\n",
              "      <td>0.172340</td>\n",
              "      <td>-0.723232</td>\n",
              "      <td>0.257927</td>\n",
              "      <td>0.515808</td>\n",
              "      <td>0.188810</td>\n",
              "      <td>-0.677208</td>\n",
              "      <td>F</td>\n",
              "    </tr>\n",
              "    <tr>\n",
              "      <th>8341</th>\n",
              "      <td>-0.128929</td>\n",
              "      <td>0.572391</td>\n",
              "      <td>-0.031104</td>\n",
              "      <td>0.319399</td>\n",
              "      <td>0.261718</td>\n",
              "      <td>-0.183409</td>\n",
              "      <td>0.446679</td>\n",
              "      <td>0.214617</td>\n",
              "      <td>0.251173</td>\n",
              "      <td>-0.298954</td>\n",
              "      <td>G</td>\n",
              "    </tr>\n",
              "    <tr>\n",
              "      <th>8342</th>\n",
              "      <td>1.377020</td>\n",
              "      <td>-0.063555</td>\n",
              "      <td>0.349432</td>\n",
              "      <td>0.405720</td>\n",
              "      <td>0.172340</td>\n",
              "      <td>-0.183409</td>\n",
              "      <td>0.597681</td>\n",
              "      <td>-1.538710</td>\n",
              "      <td>-0.871360</td>\n",
              "      <td>-0.349743</td>\n",
              "      <td>A</td>\n",
              "    </tr>\n",
              "    <tr>\n",
              "      <th>8343</th>\n",
              "      <td>-0.573307</td>\n",
              "      <td>0.376111</td>\n",
              "      <td>0.057807</td>\n",
              "      <td>0.047395</td>\n",
              "      <td>0.261718</td>\n",
              "      <td>-0.557133</td>\n",
              "      <td>0.031425</td>\n",
              "      <td>0.821465</td>\n",
              "      <td>0.625350</td>\n",
              "      <td>-0.411272</td>\n",
              "      <td>G</td>\n",
              "    </tr>\n",
              "  </tbody>\n",
              "</table>\n",
              "<p>8344 rows × 11 columns</p>\n",
              "</div>\n",
              "      <button class=\"colab-df-convert\" onclick=\"convertToInteractive('df-56b42b96-9eca-4de5-8775-46eab2ee216a')\"\n",
              "              title=\"Convert this dataframe to an interactive table.\"\n",
              "              style=\"display:none;\">\n",
              "        \n",
              "  <svg xmlns=\"http://www.w3.org/2000/svg\" height=\"24px\"viewBox=\"0 0 24 24\"\n",
              "       width=\"24px\">\n",
              "    <path d=\"M0 0h24v24H0V0z\" fill=\"none\"/>\n",
              "    <path d=\"M18.56 5.44l.94 2.06.94-2.06 2.06-.94-2.06-.94-.94-2.06-.94 2.06-2.06.94zm-11 1L8.5 8.5l.94-2.06 2.06-.94-2.06-.94L8.5 2.5l-.94 2.06-2.06.94zm10 10l.94 2.06.94-2.06 2.06-.94-2.06-.94-.94-2.06-.94 2.06-2.06.94z\"/><path d=\"M17.41 7.96l-1.37-1.37c-.4-.4-.92-.59-1.43-.59-.52 0-1.04.2-1.43.59L10.3 9.45l-7.72 7.72c-.78.78-.78 2.05 0 2.83L4 21.41c.39.39.9.59 1.41.59.51 0 1.02-.2 1.41-.59l7.78-7.78 2.81-2.81c.8-.78.8-2.07 0-2.86zM5.41 20L4 18.59l7.72-7.72 1.47 1.35L5.41 20z\"/>\n",
              "  </svg>\n",
              "      </button>\n",
              "      \n",
              "  <style>\n",
              "    .colab-df-container {\n",
              "      display:flex;\n",
              "      flex-wrap:wrap;\n",
              "      gap: 12px;\n",
              "    }\n",
              "\n",
              "    .colab-df-convert {\n",
              "      background-color: #E8F0FE;\n",
              "      border: none;\n",
              "      border-radius: 50%;\n",
              "      cursor: pointer;\n",
              "      display: none;\n",
              "      fill: #1967D2;\n",
              "      height: 32px;\n",
              "      padding: 0 0 0 0;\n",
              "      width: 32px;\n",
              "    }\n",
              "\n",
              "    .colab-df-convert:hover {\n",
              "      background-color: #E2EBFA;\n",
              "      box-shadow: 0px 1px 2px rgba(60, 64, 67, 0.3), 0px 1px 3px 1px rgba(60, 64, 67, 0.15);\n",
              "      fill: #174EA6;\n",
              "    }\n",
              "\n",
              "    [theme=dark] .colab-df-convert {\n",
              "      background-color: #3B4455;\n",
              "      fill: #D2E3FC;\n",
              "    }\n",
              "\n",
              "    [theme=dark] .colab-df-convert:hover {\n",
              "      background-color: #434B5C;\n",
              "      box-shadow: 0px 1px 3px 1px rgba(0, 0, 0, 0.15);\n",
              "      filter: drop-shadow(0px 1px 2px rgba(0, 0, 0, 0.3));\n",
              "      fill: #FFFFFF;\n",
              "    }\n",
              "  </style>\n",
              "\n",
              "      <script>\n",
              "        const buttonEl =\n",
              "          document.querySelector('#df-56b42b96-9eca-4de5-8775-46eab2ee216a button.colab-df-convert');\n",
              "        buttonEl.style.display =\n",
              "          google.colab.kernel.accessAllowed ? 'block' : 'none';\n",
              "\n",
              "        async function convertToInteractive(key) {\n",
              "          const element = document.querySelector('#df-56b42b96-9eca-4de5-8775-46eab2ee216a');\n",
              "          const dataTable =\n",
              "            await google.colab.kernel.invokeFunction('convertToInteractive',\n",
              "                                                     [key], {});\n",
              "          if (!dataTable) return;\n",
              "\n",
              "          const docLinkHtml = 'Like what you see? Visit the ' +\n",
              "            '<a target=\"_blank\" href=https://colab.research.google.com/notebooks/data_table.ipynb>data table notebook</a>'\n",
              "            + ' to learn more about interactive tables.';\n",
              "          element.innerHTML = '';\n",
              "          dataTable['output_type'] = 'display_data';\n",
              "          await google.colab.output.renderOutput(dataTable, element);\n",
              "          const docLink = document.createElement('div');\n",
              "          docLink.innerHTML = docLinkHtml;\n",
              "          element.appendChild(docLink);\n",
              "        }\n",
              "      </script>\n",
              "    </div>\n",
              "  </div>\n",
              "  "
            ],
            "text/plain": [
              "      intercolumnar distance   upper margin  ...  modular ratio  class\n",
              "0                    0.117948     -0.220579  ...       0.541155      A\n",
              "1                    0.809204     -0.094960  ...       0.244286      I\n",
              "2                    0.080916      0.014957  ...      -0.028184      A\n",
              "3                   -3.461768     -0.204876  ...      -5.460407      F\n",
              "4                    0.056229     -0.730905  ...       1.319049      A\n",
              "...                       ...           ...  ...            ...    ...\n",
              "8339                -0.277055     -0.251983  ...       0.952766      X\n",
              "8340                 0.019197     -0.173471  ...      -0.677208      F\n",
              "8341                -0.128929      0.572391  ...      -0.298954      G\n",
              "8342                 1.377020     -0.063555  ...      -0.349743      A\n",
              "8343                -0.573307      0.376111  ...      -0.411272      G\n",
              "\n",
              "[8344 rows x 11 columns]"
            ]
          },
          "metadata": {},
          "execution_count": 3
        }
      ]
    },
    {
      "cell_type": "code",
      "source": [
        "test.head(5)"
      ],
      "metadata": {
        "colab": {
          "base_uri": "https://localhost:8080/",
          "height": 206
        },
        "id": "YuDYfIf4pSWf",
        "outputId": "9a15a6b5-b9b3-4fd7-85a6-29b9f2dc4f18"
      },
      "execution_count": null,
      "outputs": [
        {
          "output_type": "execute_result",
          "data": {
            "text/html": [
              "\n",
              "  <div id=\"df-0b34788b-bb76-436e-bbf0-6ae4a7e448ee\">\n",
              "    <div class=\"colab-df-container\">\n",
              "      <div>\n",
              "<style scoped>\n",
              "    .dataframe tbody tr th:only-of-type {\n",
              "        vertical-align: middle;\n",
              "    }\n",
              "\n",
              "    .dataframe tbody tr th {\n",
              "        vertical-align: top;\n",
              "    }\n",
              "\n",
              "    .dataframe thead th {\n",
              "        text-align: right;\n",
              "    }\n",
              "</style>\n",
              "<table border=\"1\" class=\"dataframe\">\n",
              "  <thead>\n",
              "    <tr style=\"text-align: right;\">\n",
              "      <th></th>\n",
              "      <th>intercolumnar distance</th>\n",
              "      <th>upper margin</th>\n",
              "      <th>lower margin</th>\n",
              "      <th>exploitation</th>\n",
              "      <th>row number</th>\n",
              "      <th>modular ratio</th>\n",
              "      <th>interlinear spacing</th>\n",
              "      <th>weight</th>\n",
              "      <th>peak number</th>\n",
              "      <th>modular ratio</th>\n",
              "      <th>class</th>\n",
              "    </tr>\n",
              "  </thead>\n",
              "  <tbody>\n",
              "    <tr>\n",
              "      <th>0</th>\n",
              "      <td>0.130292</td>\n",
              "      <td>-0.314793</td>\n",
              "      <td>0.417003</td>\n",
              "      <td>1.051058</td>\n",
              "      <td>0.082961</td>\n",
              "      <td>0.439463</td>\n",
              "      <td>0.220177</td>\n",
              "      <td>0.699827</td>\n",
              "      <td>0.375899</td>\n",
              "      <td>0.400605</td>\n",
              "      <td>NaN</td>\n",
              "    </tr>\n",
              "    <tr>\n",
              "      <th>1</th>\n",
              "      <td>-0.104241</td>\n",
              "      <td>-0.314793</td>\n",
              "      <td>0.665951</td>\n",
              "      <td>-0.064110</td>\n",
              "      <td>0.172340</td>\n",
              "      <td>-1.512204</td>\n",
              "      <td>0.106925</td>\n",
              "      <td>0.119870</td>\n",
              "      <td>-0.123005</td>\n",
              "      <td>-1.312598</td>\n",
              "      <td>NaN</td>\n",
              "    </tr>\n",
              "    <tr>\n",
              "      <th>2</th>\n",
              "      <td>0.019197</td>\n",
              "      <td>-0.040001</td>\n",
              "      <td>0.288973</td>\n",
              "      <td>-0.042597</td>\n",
              "      <td>0.261718</td>\n",
              "      <td>-0.141884</td>\n",
              "      <td>0.371178</td>\n",
              "      <td>-1.180477</td>\n",
              "      <td>-0.777816</td>\n",
              "      <td>-0.209421</td>\n",
              "      <td>NaN</td>\n",
              "    </tr>\n",
              "    <tr>\n",
              "      <th>3</th>\n",
              "      <td>-0.326430</td>\n",
              "      <td>-0.652394</td>\n",
              "      <td>0.384996</td>\n",
              "      <td>-1.694222</td>\n",
              "      <td>-0.185173</td>\n",
              "      <td>-2.093552</td>\n",
              "      <td>-3.026359</td>\n",
              "      <td>-3.734962</td>\n",
              "      <td>-2.991700</td>\n",
              "      <td>-3.113659</td>\n",
              "      <td>NaN</td>\n",
              "    </tr>\n",
              "    <tr>\n",
              "      <th>4</th>\n",
              "      <td>0.031541</td>\n",
              "      <td>-0.346197</td>\n",
              "      <td>-0.009765</td>\n",
              "      <td>1.029902</td>\n",
              "      <td>0.082961</td>\n",
              "      <td>-0.432558</td>\n",
              "      <td>-3.101860</td>\n",
              "      <td>-0.692703</td>\n",
              "      <td>-0.840179</td>\n",
              "      <td>-1.852354</td>\n",
              "      <td>NaN</td>\n",
              "    </tr>\n",
              "  </tbody>\n",
              "</table>\n",
              "</div>\n",
              "      <button class=\"colab-df-convert\" onclick=\"convertToInteractive('df-0b34788b-bb76-436e-bbf0-6ae4a7e448ee')\"\n",
              "              title=\"Convert this dataframe to an interactive table.\"\n",
              "              style=\"display:none;\">\n",
              "        \n",
              "  <svg xmlns=\"http://www.w3.org/2000/svg\" height=\"24px\"viewBox=\"0 0 24 24\"\n",
              "       width=\"24px\">\n",
              "    <path d=\"M0 0h24v24H0V0z\" fill=\"none\"/>\n",
              "    <path d=\"M18.56 5.44l.94 2.06.94-2.06 2.06-.94-2.06-.94-.94-2.06-.94 2.06-2.06.94zm-11 1L8.5 8.5l.94-2.06 2.06-.94-2.06-.94L8.5 2.5l-.94 2.06-2.06.94zm10 10l.94 2.06.94-2.06 2.06-.94-2.06-.94-.94-2.06-.94 2.06-2.06.94z\"/><path d=\"M17.41 7.96l-1.37-1.37c-.4-.4-.92-.59-1.43-.59-.52 0-1.04.2-1.43.59L10.3 9.45l-7.72 7.72c-.78.78-.78 2.05 0 2.83L4 21.41c.39.39.9.59 1.41.59.51 0 1.02-.2 1.41-.59l7.78-7.78 2.81-2.81c.8-.78.8-2.07 0-2.86zM5.41 20L4 18.59l7.72-7.72 1.47 1.35L5.41 20z\"/>\n",
              "  </svg>\n",
              "      </button>\n",
              "      \n",
              "  <style>\n",
              "    .colab-df-container {\n",
              "      display:flex;\n",
              "      flex-wrap:wrap;\n",
              "      gap: 12px;\n",
              "    }\n",
              "\n",
              "    .colab-df-convert {\n",
              "      background-color: #E8F0FE;\n",
              "      border: none;\n",
              "      border-radius: 50%;\n",
              "      cursor: pointer;\n",
              "      display: none;\n",
              "      fill: #1967D2;\n",
              "      height: 32px;\n",
              "      padding: 0 0 0 0;\n",
              "      width: 32px;\n",
              "    }\n",
              "\n",
              "    .colab-df-convert:hover {\n",
              "      background-color: #E2EBFA;\n",
              "      box-shadow: 0px 1px 2px rgba(60, 64, 67, 0.3), 0px 1px 3px 1px rgba(60, 64, 67, 0.15);\n",
              "      fill: #174EA6;\n",
              "    }\n",
              "\n",
              "    [theme=dark] .colab-df-convert {\n",
              "      background-color: #3B4455;\n",
              "      fill: #D2E3FC;\n",
              "    }\n",
              "\n",
              "    [theme=dark] .colab-df-convert:hover {\n",
              "      background-color: #434B5C;\n",
              "      box-shadow: 0px 1px 3px 1px rgba(0, 0, 0, 0.15);\n",
              "      filter: drop-shadow(0px 1px 2px rgba(0, 0, 0, 0.3));\n",
              "      fill: #FFFFFF;\n",
              "    }\n",
              "  </style>\n",
              "\n",
              "      <script>\n",
              "        const buttonEl =\n",
              "          document.querySelector('#df-0b34788b-bb76-436e-bbf0-6ae4a7e448ee button.colab-df-convert');\n",
              "        buttonEl.style.display =\n",
              "          google.colab.kernel.accessAllowed ? 'block' : 'none';\n",
              "\n",
              "        async function convertToInteractive(key) {\n",
              "          const element = document.querySelector('#df-0b34788b-bb76-436e-bbf0-6ae4a7e448ee');\n",
              "          const dataTable =\n",
              "            await google.colab.kernel.invokeFunction('convertToInteractive',\n",
              "                                                     [key], {});\n",
              "          if (!dataTable) return;\n",
              "\n",
              "          const docLinkHtml = 'Like what you see? Visit the ' +\n",
              "            '<a target=\"_blank\" href=https://colab.research.google.com/notebooks/data_table.ipynb>data table notebook</a>'\n",
              "            + ' to learn more about interactive tables.';\n",
              "          element.innerHTML = '';\n",
              "          dataTable['output_type'] = 'display_data';\n",
              "          await google.colab.output.renderOutput(dataTable, element);\n",
              "          const docLink = document.createElement('div');\n",
              "          docLink.innerHTML = docLinkHtml;\n",
              "          element.appendChild(docLink);\n",
              "        }\n",
              "      </script>\n",
              "    </div>\n",
              "  </div>\n",
              "  "
            ],
            "text/plain": [
              "   intercolumnar distance   upper margin  ...  modular ratio  class\n",
              "0                 0.130292     -0.314793  ...       0.400605    NaN\n",
              "1                -0.104241     -0.314793  ...      -1.312598    NaN\n",
              "2                 0.019197     -0.040001  ...      -0.209421    NaN\n",
              "3                -0.326430     -0.652394  ...      -3.113659    NaN\n",
              "4                 0.031541     -0.346197  ...      -1.852354    NaN\n",
              "\n",
              "[5 rows x 11 columns]"
            ]
          },
          "metadata": {},
          "execution_count": 140
        }
      ]
    },
    {
      "cell_type": "code",
      "source": [
        "train[\"class\"].hist()"
      ],
      "metadata": {
        "colab": {
          "base_uri": "https://localhost:8080/",
          "height": 282
        },
        "id": "uCZarxCm-GYg",
        "outputId": "f15ce917-3d3c-4e91-eb0d-8d904801e1a1"
      },
      "execution_count": null,
      "outputs": [
        {
          "output_type": "execute_result",
          "data": {
            "text/plain": [
              "<matplotlib.axes._subplots.AxesSubplot at 0x7f833f49c790>"
            ]
          },
          "metadata": {},
          "execution_count": 4
        },
        {
          "output_type": "display_data",
          "data": {
            "image/png": "[encoded data removed]",
            "text/plain": [
              "<Figure size 432x288 with 1 Axes>"
            ]
          },
          "metadata": {
            "needs_background": "light"
          }
        }
      ]
    },
    {
      "cell_type": "markdown",
      "source": [
        "We can see that there is a huge class imbalance.Almost half of the data is from class A"
      ],
      "metadata": {
        "id": "jyAoufNNQUeZ"
      }
    },
    {
      "cell_type": "code",
      "source": [
        "train.groupby('class').count()"
      ],
      "metadata": {
        "colab": {
          "base_uri": "https://localhost:8080/",
          "height": 457
        },
        "id": "3s8vr9wGcYzG",
        "outputId": "1c387919-407f-41ba-aeaa-336f68ac36c9"
      },
      "execution_count": null,
      "outputs": [
        {
          "output_type": "execute_result",
          "data": {
            "text/html": [
              "\n",
              "  <div id=\"df-b4a51d0c-ba5c-4ebe-8269-060019567229\">\n",
              "    <div class=\"colab-df-container\">\n",
              "      <div>\n",
              "<style scoped>\n",
              "    .dataframe tbody tr th:only-of-type {\n",
              "        vertical-align: middle;\n",
              "    }\n",
              "\n",
              "    .dataframe tbody tr th {\n",
              "        vertical-align: top;\n",
              "    }\n",
              "\n",
              "    .dataframe thead th {\n",
              "        text-align: right;\n",
              "    }\n",
              "</style>\n",
              "<table border=\"1\" class=\"dataframe\">\n",
              "  <thead>\n",
              "    <tr style=\"text-align: right;\">\n",
              "      <th></th>\n",
              "      <th>intercolumnar distance</th>\n",
              "      <th>upper margin</th>\n",
              "      <th>lower margin</th>\n",
              "      <th>exploitation</th>\n",
              "      <th>row number</th>\n",
              "      <th>modular ratio</th>\n",
              "      <th>interlinear spacing</th>\n",
              "      <th>weight</th>\n",
              "      <th>peak number</th>\n",
              "      <th>modular ratio</th>\n",
              "    </tr>\n",
              "    <tr>\n",
              "      <th>class</th>\n",
              "      <th></th>\n",
              "      <th></th>\n",
              "      <th></th>\n",
              "      <th></th>\n",
              "      <th></th>\n",
              "      <th></th>\n",
              "      <th></th>\n",
              "      <th></th>\n",
              "      <th></th>\n",
              "      <th></th>\n",
              "    </tr>\n",
              "  </thead>\n",
              "  <tbody>\n",
              "    <tr>\n",
              "      <th>A</th>\n",
              "      <td>3456</td>\n",
              "      <td>3456</td>\n",
              "      <td>3456</td>\n",
              "      <td>3456</td>\n",
              "      <td>3456</td>\n",
              "      <td>3456</td>\n",
              "      <td>3456</td>\n",
              "      <td>3456</td>\n",
              "      <td>3456</td>\n",
              "      <td>3456</td>\n",
              "    </tr>\n",
              "    <tr>\n",
              "      <th>B</th>\n",
              "      <td>3</td>\n",
              "      <td>3</td>\n",
              "      <td>3</td>\n",
              "      <td>3</td>\n",
              "      <td>3</td>\n",
              "      <td>3</td>\n",
              "      <td>3</td>\n",
              "      <td>3</td>\n",
              "      <td>3</td>\n",
              "      <td>3</td>\n",
              "    </tr>\n",
              "    <tr>\n",
              "      <th>C</th>\n",
              "      <td>76</td>\n",
              "      <td>76</td>\n",
              "      <td>76</td>\n",
              "      <td>76</td>\n",
              "      <td>76</td>\n",
              "      <td>76</td>\n",
              "      <td>76</td>\n",
              "      <td>76</td>\n",
              "      <td>76</td>\n",
              "      <td>76</td>\n",
              "    </tr>\n",
              "    <tr>\n",
              "      <th>D</th>\n",
              "      <td>290</td>\n",
              "      <td>290</td>\n",
              "      <td>290</td>\n",
              "      <td>290</td>\n",
              "      <td>290</td>\n",
              "      <td>290</td>\n",
              "      <td>290</td>\n",
              "      <td>290</td>\n",
              "      <td>290</td>\n",
              "      <td>290</td>\n",
              "    </tr>\n",
              "    <tr>\n",
              "      <th>E</th>\n",
              "      <td>875</td>\n",
              "      <td>875</td>\n",
              "      <td>875</td>\n",
              "      <td>875</td>\n",
              "      <td>875</td>\n",
              "      <td>875</td>\n",
              "      <td>875</td>\n",
              "      <td>875</td>\n",
              "      <td>875</td>\n",
              "      <td>875</td>\n",
              "    </tr>\n",
              "    <tr>\n",
              "      <th>F</th>\n",
              "      <td>1544</td>\n",
              "      <td>1544</td>\n",
              "      <td>1544</td>\n",
              "      <td>1544</td>\n",
              "      <td>1544</td>\n",
              "      <td>1544</td>\n",
              "      <td>1544</td>\n",
              "      <td>1544</td>\n",
              "      <td>1544</td>\n",
              "      <td>1544</td>\n",
              "    </tr>\n",
              "    <tr>\n",
              "      <th>G</th>\n",
              "      <td>365</td>\n",
              "      <td>365</td>\n",
              "      <td>365</td>\n",
              "      <td>365</td>\n",
              "      <td>365</td>\n",
              "      <td>365</td>\n",
              "      <td>365</td>\n",
              "      <td>365</td>\n",
              "      <td>365</td>\n",
              "      <td>365</td>\n",
              "    </tr>\n",
              "    <tr>\n",
              "      <th>H</th>\n",
              "      <td>404</td>\n",
              "      <td>404</td>\n",
              "      <td>404</td>\n",
              "      <td>404</td>\n",
              "      <td>404</td>\n",
              "      <td>404</td>\n",
              "      <td>404</td>\n",
              "      <td>404</td>\n",
              "      <td>404</td>\n",
              "      <td>404</td>\n",
              "    </tr>\n",
              "    <tr>\n",
              "      <th>I</th>\n",
              "      <td>658</td>\n",
              "      <td>658</td>\n",
              "      <td>658</td>\n",
              "      <td>658</td>\n",
              "      <td>658</td>\n",
              "      <td>658</td>\n",
              "      <td>658</td>\n",
              "      <td>658</td>\n",
              "      <td>658</td>\n",
              "      <td>658</td>\n",
              "    </tr>\n",
              "    <tr>\n",
              "      <th>W</th>\n",
              "      <td>39</td>\n",
              "      <td>39</td>\n",
              "      <td>39</td>\n",
              "      <td>39</td>\n",
              "      <td>39</td>\n",
              "      <td>39</td>\n",
              "      <td>39</td>\n",
              "      <td>39</td>\n",
              "      <td>39</td>\n",
              "      <td>39</td>\n",
              "    </tr>\n",
              "    <tr>\n",
              "      <th>X</th>\n",
              "      <td>420</td>\n",
              "      <td>420</td>\n",
              "      <td>420</td>\n",
              "      <td>420</td>\n",
              "      <td>420</td>\n",
              "      <td>420</td>\n",
              "      <td>420</td>\n",
              "      <td>420</td>\n",
              "      <td>420</td>\n",
              "      <td>420</td>\n",
              "    </tr>\n",
              "    <tr>\n",
              "      <th>Y</th>\n",
              "      <td>214</td>\n",
              "      <td>214</td>\n",
              "      <td>214</td>\n",
              "      <td>214</td>\n",
              "      <td>214</td>\n",
              "      <td>214</td>\n",
              "      <td>214</td>\n",
              "      <td>214</td>\n",
              "      <td>214</td>\n",
              "      <td>214</td>\n",
              "    </tr>\n",
              "  </tbody>\n",
              "</table>\n",
              "</div>\n",
              "      <button class=\"colab-df-convert\" onclick=\"convertToInteractive('df-b4a51d0c-ba5c-4ebe-8269-060019567229')\"\n",
              "              title=\"Convert this dataframe to an interactive table.\"\n",
              "              style=\"display:none;\">\n",
              "        \n",
              "  <svg xmlns=\"http://www.w3.org/2000/svg\" height=\"24px\"viewBox=\"0 0 24 24\"\n",
              "       width=\"24px\">\n",
              "    <path d=\"M0 0h24v24H0V0z\" fill=\"none\"/>\n",
              "    <path d=\"M18.56 5.44l.94 2.06.94-2.06 2.06-.94-2.06-.94-.94-2.06-.94 2.06-2.06.94zm-11 1L8.5 8.5l.94-2.06 2.06-.94-2.06-.94L8.5 2.5l-.94 2.06-2.06.94zm10 10l.94 2.06.94-2.06 2.06-.94-2.06-.94-.94-2.06-.94 2.06-2.06.94z\"/><path d=\"M17.41 7.96l-1.37-1.37c-.4-.4-.92-.59-1.43-.59-.52 0-1.04.2-1.43.59L10.3 9.45l-7.72 7.72c-.78.78-.78 2.05 0 2.83L4 21.41c.39.39.9.59 1.41.59.51 0 1.02-.2 1.41-.59l7.78-7.78 2.81-2.81c.8-.78.8-2.07 0-2.86zM5.41 20L4 18.59l7.72-7.72 1.47 1.35L5.41 20z\"/>\n",
              "  </svg>\n",
              "      </button>\n",
              "      \n",
              "  <style>\n",
              "    .colab-df-container {\n",
              "      display:flex;\n",
              "      flex-wrap:wrap;\n",
              "      gap: 12px;\n",
              "    }\n",
              "\n",
              "    .colab-df-convert {\n",
              "      background-color: #E8F0FE;\n",
              "      border: none;\n",
              "      border-radius: 50%;\n",
              "      cursor: pointer;\n",
              "      display: none;\n",
              "      fill: #1967D2;\n",
              "      height: 32px;\n",
              "      padding: 0 0 0 0;\n",
              "      width: 32px;\n",
              "    }\n",
              "\n",
              "    .colab-df-convert:hover {\n",
              "      background-color: #E2EBFA;\n",
              "      box-shadow: 0px 1px 2px rgba(60, 64, 67, 0.3), 0px 1px 3px 1px rgba(60, 64, 67, 0.15);\n",
              "      fill: #174EA6;\n",
              "    }\n",
              "\n",
              "    [theme=dark] .colab-df-convert {\n",
              "      background-color: #3B4455;\n",
              "      fill: #D2E3FC;\n",
              "    }\n",
              "\n",
              "    [theme=dark] .colab-df-convert:hover {\n",
              "      background-color: #434B5C;\n",
              "      box-shadow: 0px 1px 3px 1px rgba(0, 0, 0, 0.15);\n",
              "      filter: drop-shadow(0px 1px 2px rgba(0, 0, 0, 0.3));\n",
              "      fill: #FFFFFF;\n",
              "    }\n",
              "  </style>\n",
              "\n",
              "      <script>\n",
              "        const buttonEl =\n",
              "          document.querySelector('#df-b4a51d0c-ba5c-4ebe-8269-060019567229 button.colab-df-convert');\n",
              "        buttonEl.style.display =\n",
              "          google.colab.kernel.accessAllowed ? 'block' : 'none';\n",
              "\n",
              "        async function convertToInteractive(key) {\n",
              "          const element = document.querySelector('#df-b4a51d0c-ba5c-4ebe-8269-060019567229');\n",
              "          const dataTable =\n",
              "            await google.colab.kernel.invokeFunction('convertToInteractive',\n",
              "                                                     [key], {});\n",
              "          if (!dataTable) return;\n",
              "\n",
              "          const docLinkHtml = 'Like what you see? Visit the ' +\n",
              "            '<a target=\"_blank\" href=https://colab.research.google.com/notebooks/data_table.ipynb>data table notebook</a>'\n",
              "            + ' to learn more about interactive tables.';\n",
              "          element.innerHTML = '';\n",
              "          dataTable['output_type'] = 'display_data';\n",
              "          await google.colab.output.renderOutput(dataTable, element);\n",
              "          const docLink = document.createElement('div');\n",
              "          docLink.innerHTML = docLinkHtml;\n",
              "          element.appendChild(docLink);\n",
              "        }\n",
              "      </script>\n",
              "    </div>\n",
              "  </div>\n",
              "  "
            ],
            "text/plain": [
              "       intercolumnar distance   upper margin  ...  peak number   modular ratio\n",
              "class                                         ...                             \n",
              "A                         3456          3456  ...          3456           3456\n",
              "B                            3             3  ...             3              3\n",
              "C                           76            76  ...            76             76\n",
              "D                          290           290  ...           290            290\n",
              "E                          875           875  ...           875            875\n",
              "F                         1544          1544  ...          1544           1544\n",
              "G                          365           365  ...           365            365\n",
              "H                          404           404  ...           404            404\n",
              "I                          658           658  ...           658            658\n",
              "W                           39            39  ...            39             39\n",
              "X                          420           420  ...           420            420\n",
              "Y                          214           214  ...           214            214\n",
              "\n",
              "[12 rows x 10 columns]"
            ]
          },
          "metadata": {},
          "execution_count": 58
        }
      ]
    },
    {
      "cell_type": "markdown",
      "source": [
        "The presence of class B seems to affect other classes performance, so I am removing it"
      ],
      "metadata": {
        "id": "AsxaXFKdtfL7"
      }
    },
    {
      "cell_type": "code",
      "source": [
        "model_data=train.drop(index=train.loc[train[\"class\"]=='B'].index)"
      ],
      "metadata": {
        "id": "vmZzdS7IX9Qh"
      },
      "execution_count": null,
      "outputs": []
    },
    {
      "cell_type": "code",
      "source": [
        "features=test.columns.to_list()\n",
        "del features[-1]"
      ],
      "metadata": {
        "id": "cpb5ZTKS-N5e"
      },
      "execution_count": null,
      "outputs": []
    },
    {
      "cell_type": "code",
      "source": [
        "for feature in features:\n",
        "  sns.distplot(train[feature])\n",
        "  plt.xlabel(feature)\n",
        "  plt.ylabel(\"Count\")\n",
        "  plt.title(feature)\n",
        "  plt.show()"
      ],
      "metadata": {
        "colab": {
          "base_uri": "https://localhost:8080/",
          "height": 1000
        },
        "id": "qtnWtBp6NFq8",
        "outputId": "e647f4aa-03d0-4e82-a8da-04cf9124176b"
      },
      "execution_count": null,
      "outputs": [
        {
          "output_type": "stream",
          "name": "stderr",
          "text": [
            "/usr/local/lib/python3.7/dist-packages/seaborn/distributions.py:2619: FutureWarning: `distplot` is a deprecated function and will be removed in a future version. Please adapt your code to use either `displot` (a figure-level function with similar flexibility) or `histplot` (an axes-level function for histograms).\n",
            "  warnings.warn(msg, FutureWarning)\n"
          ]
        },
        {
          "output_type": "display_data",
          "data": {
            "image/png": "[encoded data removed]",
            "text/plain": [
              "<Figure size 432x288 with 1 Axes>"
            ]
          },
          "metadata": {
            "needs_background": "light"
          }
        },
        {
          "output_type": "stream",
          "name": "stderr",
          "text": [
            "/usr/local/lib/python3.7/dist-packages/seaborn/distributions.py:2619: FutureWarning: `distplot` is a deprecated function and will be removed in a future version. Please adapt your code to use either `displot` (a figure-level function with similar flexibility) or `histplot` (an axes-level function for histograms).\n",
            "  warnings.warn(msg, FutureWarning)\n"
          ]
        },
        {
          "output_type": "display_data",
          "data": {
            "image/png": "[encoded data removed]",
            "text/plain": [
              "<Figure size 432x288 with 1 Axes>"
            ]
          },
          "metadata": {
            "needs_background": "light"
          }
        },
        {
          "output_type": "stream",
          "name": "stderr",
          "text": [
            "/usr/local/lib/python3.7/dist-packages/seaborn/distributions.py:2619: FutureWarning: `distplot` is a deprecated function and will be removed in a future version. Please adapt your code to use either `displot` (a figure-level function with similar flexibility) or `histplot` (an axes-level function for histograms).\n",
            "  warnings.warn(msg, FutureWarning)\n"
          ]
        },
        {
          "output_type": "display_data",
          "data": {
            "image/png": "[encoded data removed]",
            "text/plain": [
              "<Figure size 432x288 with 1 Axes>"
            ]
          },
          "metadata": {
            "needs_background": "light"
          }
        },
        {
          "output_type": "stream",
          "name": "stderr",
          "text": [
            "/usr/local/lib/python3.7/dist-packages/seaborn/distributions.py:2619: FutureWarning: `distplot` is a deprecated function and will be removed in a future version. Please adapt your code to use either `displot` (a figure-level function with similar flexibility) or `histplot` (an axes-level function for histograms).\n",
            "  warnings.warn(msg, FutureWarning)\n"
          ]
        },
        {
          "output_type": "display_data",
          "data": {
            "image/png": "[encoded data removed]",
            "text/plain": [
              "<Figure size 432x288 with 1 Axes>"
            ]
          },
          "metadata": {
            "needs_background": "light"
          }
        },
        {
          "output_type": "stream",
          "name": "stderr",
          "text": [
            "/usr/local/lib/python3.7/dist-packages/seaborn/distributions.py:2619: FutureWarning: `distplot` is a deprecated function and will be removed in a future version. Please adapt your code to use either `displot` (a figure-level function with similar flexibility) or `histplot` (an axes-level function for histograms).\n",
            "  warnings.warn(msg, FutureWarning)\n"
          ]
        },
        {
          "output_type": "display_data",
          "data": {
            "image/png": "[encoded data removed]",
            "text/plain": [
              "<Figure size 432x288 with 1 Axes>"
            ]
          },
          "metadata": {
            "needs_background": "light"
          }
        },
        {
          "output_type": "stream",
          "name": "stderr",
          "text": [
            "/usr/local/lib/python3.7/dist-packages/seaborn/distributions.py:2619: FutureWarning: `distplot` is a deprecated function and will be removed in a future version. Please adapt your code to use either `displot` (a figure-level function with similar flexibility) or `histplot` (an axes-level function for histograms).\n",
            "  warnings.warn(msg, FutureWarning)\n"
          ]
        },
        {
          "output_type": "display_data",
          "data": {
            "image/png": "[encoded data removed]",
            "text/plain": [
              "<Figure size 432x288 with 1 Axes>"
            ]
          },
          "metadata": {
            "needs_background": "light"
          }
        },
        {
          "output_type": "stream",
          "name": "stderr",
          "text": [
            "/usr/local/lib/python3.7/dist-packages/seaborn/distributions.py:2619: FutureWarning: `distplot` is a deprecated function and will be removed in a future version. Please adapt your code to use either `displot` (a figure-level function with similar flexibility) or `histplot` (an axes-level function for histograms).\n",
            "  warnings.warn(msg, FutureWarning)\n"
          ]
        },
        {
          "output_type": "display_data",
          "data": {
            "image/png": "[encoded data removed]",
            "text/plain": [
              "<Figure size 432x288 with 1 Axes>"
            ]
          },
          "metadata": {
            "needs_background": "light"
          }
        },
        {
          "output_type": "stream",
          "name": "stderr",
          "text": [
            "/usr/local/lib/python3.7/dist-packages/seaborn/distributions.py:2619: FutureWarning: `distplot` is a deprecated function and will be removed in a future version. Please adapt your code to use either `displot` (a figure-level function with similar flexibility) or `histplot` (an axes-level function for histograms).\n",
            "  warnings.warn(msg, FutureWarning)\n"
          ]
        },
        {
          "output_type": "display_data",
          "data": {
            "image/png": "[encoded data removed]",
            "text/plain": [
              "<Figure size 432x288 with 1 Axes>"
            ]
          },
          "metadata": {
            "needs_background": "light"
          }
        },
        {
          "output_type": "stream",
          "name": "stderr",
          "text": [
            "/usr/local/lib/python3.7/dist-packages/seaborn/distributions.py:2619: FutureWarning: `distplot` is a deprecated function and will be removed in a future version. Please adapt your code to use either `displot` (a figure-level function with similar flexibility) or `histplot` (an axes-level function for histograms).\n",
            "  warnings.warn(msg, FutureWarning)\n"
          ]
        },
        {
          "output_type": "display_data",
          "data": {
            "image/png": "[encoded data removed]",
            "text/plain": [
              "<Figure size 432x288 with 1 Axes>"
            ]
          },
          "metadata": {
            "needs_background": "light"
          }
        },
        {
          "output_type": "stream",
          "name": "stderr",
          "text": [
            "/usr/local/lib/python3.7/dist-packages/seaborn/distributions.py:2619: FutureWarning: `distplot` is a deprecated function and will be removed in a future version. Please adapt your code to use either `displot` (a figure-level function with similar flexibility) or `histplot` (an axes-level function for histograms).\n",
            "  warnings.warn(msg, FutureWarning)\n"
          ]
        },
        {
          "output_type": "display_data",
          "data": {
            "image/png": "[encoded data removed]",
            "text/plain": [
              "<Figure size 432x288 with 1 Axes>"
            ]
          },
          "metadata": {
            "needs_background": "light"
          }
        }
      ]
    },
    {
      "cell_type": "markdown",
      "source": [
        "##Model"
      ],
      "metadata": {
        "id": "etgDpguKQjhQ"
      }
    },
    {
      "cell_type": "code",
      "source": [
        "from imblearn.ensemble import BalancedRandomForestClassifier"
      ],
      "metadata": {
        "id": "d8Kc4jg6NP4P"
      },
      "execution_count": null,
      "outputs": []
    },
    {
      "cell_type": "markdown",
      "source": [
        "Splitting into independent variables X and dependent variable class y"
      ],
      "metadata": {
        "id": "SosxJMYytuK0"
      }
    },
    {
      "cell_type": "code",
      "source": [
        "X = model_data.iloc[:, 0:10].values\n",
        "y = model_data.iloc[:, 10].values"
      ],
      "metadata": {
        "id": "Ldg7NuN8QM0t"
      },
      "execution_count": null,
      "outputs": []
    },
    {
      "cell_type": "code",
      "source": [
        "from sklearn.model_selection import train_test_split\n",
        "x_train, x_test, y_train, y_test = train_test_split(X, y, test_size=0.1,stratify=y)"
      ],
      "metadata": {
        "id": "UUEjKqNiTpUj"
      },
      "execution_count": null,
      "outputs": []
    },
    {
      "cell_type": "markdown",
      "source": [
        "###Balanced Random Forest Model"
      ],
      "metadata": {
        "id": "1SItyxPki_9I"
      }
    },
    {
      "cell_type": "code",
      "source": [
        "clf = BalancedRandomForestClassifier(random_state=0,sampling_strategy=\"all\",replacement=\"True\",n_estimators=128,max_samples=0.5)\n",
        "clf.fit(x_train,y_train)"
      ],
      "metadata": {
        "colab": {
          "base_uri": "https://localhost:8080/"
        },
        "id": "-VOE9TZxTqV_",
        "outputId": "ab661866-1bdc-4c7e-dcef-4395d50ee3de"
      },
      "execution_count": null,
      "outputs": [
        {
          "output_type": "execute_result",
          "data": {
            "text/plain": [
              "BalancedRandomForestClassifier(max_samples=0.5, n_estimators=128,\n",
              "                               random_state=0, replacement='True',\n",
              "                               sampling_strategy='all')"
            ]
          },
          "metadata": {},
          "execution_count": 87
        }
      ]
    },
    {
      "cell_type": "code",
      "source": [
        "y_pred=clf.predict(x_test)"
      ],
      "metadata": {
        "id": "5uT30XCSUBaK"
      },
      "execution_count": null,
      "outputs": []
    },
    {
      "cell_type": "code",
      "source": [
        "from sklearn.metrics import classification_report\n",
        "print(classification_report(y_test, y_pred))"
      ],
      "metadata": {
        "colab": {
          "base_uri": "https://localhost:8080/"
        },
        "id": "XwIi2u_DUHgb",
        "outputId": "35158c81-d378-4c36-8c11-1e7669c270b4"
      },
      "execution_count": null,
      "outputs": [
        {
          "output_type": "stream",
          "name": "stdout",
          "text": [
            "              precision    recall  f1-score   support\n",
            "\n",
            "           A       0.87      0.49      0.62       346\n",
            "           C       0.33      1.00      0.50         8\n",
            "           D       0.55      0.97      0.70        29\n",
            "           E       0.76      0.73      0.74        88\n",
            "           F       0.63      0.64      0.63       155\n",
            "           G       0.33      0.92      0.49        36\n",
            "           H       0.57      0.95      0.71        40\n",
            "           I       0.89      0.98      0.94        66\n",
            "           W       0.21      1.00      0.35         4\n",
            "           X       0.82      0.88      0.85        42\n",
            "           Y       0.85      0.81      0.83        21\n",
            "\n",
            "    accuracy                           0.67       835\n",
            "   macro avg       0.62      0.85      0.67       835\n",
            "weighted avg       0.75      0.67      0.68       835\n",
            "\n"
          ]
        }
      ]
    },
    {
      "cell_type": "markdown",
      "source": [
        "###Xgboost(This model was used for submission)"
      ],
      "metadata": {
        "id": "0-loh1UHibBJ"
      }
    },
    {
      "cell_type": "code",
      "source": [
        "from imblearn.combine import SMOTEENN "
      ],
      "metadata": {
        "id": "r26e3JlHif-P"
      },
      "execution_count": null,
      "outputs": []
    },
    {
      "cell_type": "markdown",
      "source": [
        "Using SMOTEENN"
      ],
      "metadata": {
        "id": "lkD-_gkekdvU"
      }
    },
    {
      "cell_type": "code",
      "source": [
        "sme = SMOTEENN(random_state=42,sampling_strategy=\"all\")"
      ],
      "metadata": {
        "id": "ah0sqGQziykg"
      },
      "execution_count": null,
      "outputs": []
    },
    {
      "cell_type": "code",
      "source": [
        "X_res, y_res = sme.fit_resample(X, y)"
      ],
      "metadata": {
        "id": "9q1Wym5Oi12f"
      },
      "execution_count": null,
      "outputs": []
    },
    {
      "cell_type": "code",
      "source": [
        "from sklearn.model_selection import train_test_split\n",
        "x_train, x_test, y_train, y_test = train_test_split(X_res, y_res, test_size=0.1,stratify=y_res)"
      ],
      "metadata": {
        "id": "Z_vB-YCijFh8"
      },
      "execution_count": null,
      "outputs": []
    },
    {
      "cell_type": "code",
      "source": [
        "from xgboost import XGBClassifier\n",
        "xgb_clf=XGBClassifier(learning_rate=0.1, max_depth=7, n_estimators=128,)\n",
        "xgb_clf.fit(x_train,y_train)"
      ],
      "metadata": {
        "colab": {
          "base_uri": "https://localhost:8080/"
        },
        "id": "NlcJbqYUjGzb",
        "outputId": "e695944e-8830-4e67-fe7b-b09b9777a18b"
      },
      "execution_count": null,
      "outputs": [
        {
          "output_type": "execute_result",
          "data": {
            "text/plain": [
              "XGBClassifier(max_depth=7, n_estimators=128, objective='multi:softprob')"
            ]
          },
          "metadata": {},
          "execution_count": 124
        }
      ]
    },
    {
      "cell_type": "code",
      "source": [
        "y_pred=xgb_clf.predict(x_test)"
      ],
      "metadata": {
        "id": "NSRj1YwTjs2P"
      },
      "execution_count": null,
      "outputs": []
    },
    {
      "cell_type": "code",
      "source": [
        "from sklearn.metrics import classification_report\n",
        "print(classification_report(y_test, y_pred))"
      ],
      "metadata": {
        "colab": {
          "base_uri": "https://localhost:8080/"
        },
        "id": "vX6HQ9Eljwgb",
        "outputId": "8d19076c-19ba-4a64-9c5a-bcd01a6829c3"
      },
      "execution_count": null,
      "outputs": [
        {
          "output_type": "stream",
          "name": "stdout",
          "text": [
            "              precision    recall  f1-score   support\n",
            "\n",
            "           A       1.00      0.93      0.96       153\n",
            "           C       0.99      0.99      0.99       344\n",
            "           D       0.99      1.00      1.00       341\n",
            "           E       0.99      0.99      0.99       319\n",
            "           F       0.98      0.98      0.98       267\n",
            "           G       0.99      1.00      1.00       342\n",
            "           H       0.99      0.99      0.99       339\n",
            "           I       1.00      1.00      1.00       344\n",
            "           W       1.00      1.00      1.00       346\n",
            "           X       0.99      0.99      0.99       342\n",
            "           Y       0.99      0.99      0.99       345\n",
            "\n",
            "    accuracy                           0.99      3482\n",
            "   macro avg       0.99      0.99      0.99      3482\n",
            "weighted avg       0.99      0.99      0.99      3482\n",
            "\n"
          ]
        }
      ]
    },
    {
      "cell_type": "markdown",
      "source": [
        "Using SMOTETomek"
      ],
      "metadata": {
        "id": "Y3gXHax-kimu"
      }
    },
    {
      "cell_type": "code",
      "source": [
        "from imblearn.combine import SMOTETomek "
      ],
      "metadata": {
        "id": "Zox1f2zaj0YU"
      },
      "execution_count": null,
      "outputs": []
    },
    {
      "cell_type": "code",
      "source": [
        "smtk = SMOTETomek(random_state=42,sampling_strategy=\"all\")"
      ],
      "metadata": {
        "id": "qZ7wNcqNlbCA"
      },
      "execution_count": null,
      "outputs": []
    },
    {
      "cell_type": "code",
      "source": [
        "X_res, y_res = smtk.fit_resample(X, y)"
      ],
      "metadata": {
        "id": "ztNSKaDYlmCX"
      },
      "execution_count": null,
      "outputs": []
    },
    {
      "cell_type": "code",
      "source": [
        "from sklearn.model_selection import train_test_split\n",
        "x_train, x_test, y_train, y_test = train_test_split(X_res, y_res, test_size=0.1,stratify=y_res)"
      ],
      "metadata": {
        "id": "oo81SztoljPQ"
      },
      "execution_count": null,
      "outputs": []
    },
    {
      "cell_type": "code",
      "source": [
        "from xgboost import XGBClassifier\n",
        "xgb_clf=XGBClassifier(learning_rate=0.1, max_depth=7, n_estimators=128,)\n",
        "xgb_clf.fit(x_train,y_train)"
      ],
      "metadata": {
        "colab": {
          "base_uri": "https://localhost:8080/"
        },
        "id": "K67c52gKlr89",
        "outputId": "8ca44a20-3172-43c7-edb2-455d56a4d89e"
      },
      "execution_count": null,
      "outputs": [
        {
          "output_type": "execute_result",
          "data": {
            "text/plain": [
              "XGBClassifier(max_depth=7, n_estimators=128, objective='multi:softprob')"
            ]
          },
          "metadata": {},
          "execution_count": 131
        }
      ]
    },
    {
      "cell_type": "code",
      "source": [
        "y_pred=xgb_clf.predict(x_test)"
      ],
      "metadata": {
        "id": "QOptXOuelzeV"
      },
      "execution_count": null,
      "outputs": []
    },
    {
      "cell_type": "code",
      "source": [
        "from sklearn.metrics import classification_report\n",
        "print(classification_report(y_test, y_pred))"
      ],
      "metadata": {
        "colab": {
          "base_uri": "https://localhost:8080/"
        },
        "id": "TFOvpTLXl009",
        "outputId": "faa03314-ce18-485a-92f9-ef50fd4b05d9"
      },
      "execution_count": null,
      "outputs": [
        {
          "output_type": "stream",
          "name": "stdout",
          "text": [
            "              precision    recall  f1-score   support\n",
            "\n",
            "           A       0.98      0.98      0.98       340\n",
            "           C       0.99      1.00      1.00       346\n",
            "           D       0.99      1.00      0.99       345\n",
            "           E       0.99      0.97      0.98       345\n",
            "           F       0.98      0.98      0.98       341\n",
            "           G       1.00      1.00      1.00       345\n",
            "           H       0.99      1.00      0.99       345\n",
            "           I       1.00      1.00      1.00       346\n",
            "           W       1.00      1.00      1.00       346\n",
            "           X       0.99      0.99      0.99       346\n",
            "           Y       1.00      0.99      1.00       346\n",
            "\n",
            "    accuracy                           0.99      3791\n",
            "   macro avg       0.99      0.99      0.99      3791\n",
            "weighted avg       0.99      0.99      0.99      3791\n",
            "\n"
          ]
        }
      ]
    },
    {
      "cell_type": "markdown",
      "source": [
        "##Test"
      ],
      "metadata": {
        "id": "NEiWyUzeo2sj"
      }
    },
    {
      "cell_type": "code",
      "source": [
        "test_feat=test.iloc[:,0:10].values"
      ],
      "metadata": {
        "id": "wZQ7ksyfo1XA"
      },
      "execution_count": null,
      "outputs": []
    },
    {
      "cell_type": "code",
      "source": [
        "test_predict=xgb_clf.predict(test_feat)"
      ],
      "metadata": {
        "id": "IhJo4vYlo9uc"
      },
      "execution_count": null,
      "outputs": []
    },
    {
      "cell_type": "code",
      "source": [
        "test['class']=test_predict"
      ],
      "metadata": {
        "id": "ODxufR2-pNfV"
      },
      "execution_count": null,
      "outputs": []
    },
    {
      "cell_type": "code",
      "source": [
        "test"
      ],
      "metadata": {
        "colab": {
          "base_uri": "https://localhost:8080/",
          "height": 424
        },
        "id": "oVoiKTQ6prCS",
        "outputId": "e5777f5b-369e-420d-c25f-68ec75252972"
      },
      "execution_count": null,
      "outputs": [
        {
          "output_type": "execute_result",
          "data": {
            "text/html": [
              "\n",
              "  <div id=\"df-64ac55b2-3439-42b3-acbb-b7b0298dc81a\">\n",
              "    <div class=\"colab-df-container\">\n",
              "      <div>\n",
              "<style scoped>\n",
              "    .dataframe tbody tr th:only-of-type {\n",
              "        vertical-align: middle;\n",
              "    }\n",
              "\n",
              "    .dataframe tbody tr th {\n",
              "        vertical-align: top;\n",
              "    }\n",
              "\n",
              "    .dataframe thead th {\n",
              "        text-align: right;\n",
              "    }\n",
              "</style>\n",
              "<table border=\"1\" class=\"dataframe\">\n",
              "  <thead>\n",
              "    <tr style=\"text-align: right;\">\n",
              "      <th></th>\n",
              "      <th>intercolumnar distance</th>\n",
              "      <th>upper margin</th>\n",
              "      <th>lower margin</th>\n",
              "      <th>exploitation</th>\n",
              "      <th>row number</th>\n",
              "      <th>modular ratio</th>\n",
              "      <th>interlinear spacing</th>\n",
              "      <th>weight</th>\n",
              "      <th>peak number</th>\n",
              "      <th>modular ratio</th>\n",
              "      <th>class</th>\n",
              "    </tr>\n",
              "  </thead>\n",
              "  <tbody>\n",
              "    <tr>\n",
              "      <th>0</th>\n",
              "      <td>0.130292</td>\n",
              "      <td>-0.314793</td>\n",
              "      <td>0.417003</td>\n",
              "      <td>1.051058</td>\n",
              "      <td>0.082961</td>\n",
              "      <td>0.439463</td>\n",
              "      <td>0.220177</td>\n",
              "      <td>0.699827</td>\n",
              "      <td>0.375899</td>\n",
              "      <td>0.400605</td>\n",
              "      <td>A</td>\n",
              "    </tr>\n",
              "    <tr>\n",
              "      <th>1</th>\n",
              "      <td>-0.104241</td>\n",
              "      <td>-0.314793</td>\n",
              "      <td>0.665951</td>\n",
              "      <td>-0.064110</td>\n",
              "      <td>0.172340</td>\n",
              "      <td>-1.512204</td>\n",
              "      <td>0.106925</td>\n",
              "      <td>0.119870</td>\n",
              "      <td>-0.123005</td>\n",
              "      <td>-1.312598</td>\n",
              "      <td>C</td>\n",
              "    </tr>\n",
              "    <tr>\n",
              "      <th>2</th>\n",
              "      <td>0.019197</td>\n",
              "      <td>-0.040001</td>\n",
              "      <td>0.288973</td>\n",
              "      <td>-0.042597</td>\n",
              "      <td>0.261718</td>\n",
              "      <td>-0.141884</td>\n",
              "      <td>0.371178</td>\n",
              "      <td>-1.180477</td>\n",
              "      <td>-0.777816</td>\n",
              "      <td>-0.209421</td>\n",
              "      <td>F</td>\n",
              "    </tr>\n",
              "    <tr>\n",
              "      <th>3</th>\n",
              "      <td>-0.326430</td>\n",
              "      <td>-0.652394</td>\n",
              "      <td>0.384996</td>\n",
              "      <td>-1.694222</td>\n",
              "      <td>-0.185173</td>\n",
              "      <td>-2.093552</td>\n",
              "      <td>-3.026359</td>\n",
              "      <td>-3.734962</td>\n",
              "      <td>-2.991700</td>\n",
              "      <td>-3.113659</td>\n",
              "      <td>E</td>\n",
              "    </tr>\n",
              "    <tr>\n",
              "      <th>4</th>\n",
              "      <td>0.031541</td>\n",
              "      <td>-0.346197</td>\n",
              "      <td>-0.009765</td>\n",
              "      <td>1.029902</td>\n",
              "      <td>0.082961</td>\n",
              "      <td>-0.432558</td>\n",
              "      <td>-3.101860</td>\n",
              "      <td>-0.692703</td>\n",
              "      <td>-0.840179</td>\n",
              "      <td>-1.852354</td>\n",
              "      <td>A</td>\n",
              "    </tr>\n",
              "    <tr>\n",
              "      <th>...</th>\n",
              "      <td>...</td>\n",
              "      <td>...</td>\n",
              "      <td>...</td>\n",
              "      <td>...</td>\n",
              "      <td>...</td>\n",
              "      <td>...</td>\n",
              "      <td>...</td>\n",
              "      <td>...</td>\n",
              "      <td>...</td>\n",
              "      <td>...</td>\n",
              "      <td>...</td>\n",
              "    </tr>\n",
              "    <tr>\n",
              "      <th>2081</th>\n",
              "      <td>-3.498799</td>\n",
              "      <td>0.007106</td>\n",
              "      <td>0.342319</td>\n",
              "      <td>-0.318002</td>\n",
              "      <td>-4.922215</td>\n",
              "      <td>-0.972381</td>\n",
              "      <td>-0.157328</td>\n",
              "      <td>0.070031</td>\n",
              "      <td>0.594169</td>\n",
              "      <td>-0.689649</td>\n",
              "      <td>E</td>\n",
              "    </tr>\n",
              "    <tr>\n",
              "      <th>2082</th>\n",
              "      <td>-0.091897</td>\n",
              "      <td>-0.118513</td>\n",
              "      <td>0.189393</td>\n",
              "      <td>1.280303</td>\n",
              "      <td>0.261718</td>\n",
              "      <td>3.014004</td>\n",
              "      <td>0.408929</td>\n",
              "      <td>-1.249285</td>\n",
              "      <td>-1.027268</td>\n",
              "      <td>2.580920</td>\n",
              "      <td>A</td>\n",
              "    </tr>\n",
              "    <tr>\n",
              "      <th>2083</th>\n",
              "      <td>-0.091897</td>\n",
              "      <td>0.258344</td>\n",
              "      <td>0.445454</td>\n",
              "      <td>1.643582</td>\n",
              "      <td>0.082961</td>\n",
              "      <td>0.148790</td>\n",
              "      <td>0.484429</td>\n",
              "      <td>1.350108</td>\n",
              "      <td>-0.091823</td>\n",
              "      <td>0.004015</td>\n",
              "      <td>W</td>\n",
              "    </tr>\n",
              "    <tr>\n",
              "      <th>2084</th>\n",
              "      <td>0.327793</td>\n",
              "      <td>0.501730</td>\n",
              "      <td>0.050694</td>\n",
              "      <td>-1.018301</td>\n",
              "      <td>0.261718</td>\n",
              "      <td>-0.930856</td>\n",
              "      <td>0.031425</td>\n",
              "      <td>0.544485</td>\n",
              "      <td>0.032902</td>\n",
              "      <td>-0.740413</td>\n",
              "      <td>G</td>\n",
              "    </tr>\n",
              "    <tr>\n",
              "      <th>2085</th>\n",
              "      <td>-0.314087</td>\n",
              "      <td>0.360409</td>\n",
              "      <td>0.395665</td>\n",
              "      <td>0.599727</td>\n",
              "      <td>-1.347089</td>\n",
              "      <td>-0.183409</td>\n",
              "      <td>0.182426</td>\n",
              "      <td>0.908931</td>\n",
              "      <td>-0.029461</td>\n",
              "      <td>-0.134884</td>\n",
              "      <td>D</td>\n",
              "    </tr>\n",
              "  </tbody>\n",
              "</table>\n",
              "<p>2086 rows × 11 columns</p>\n",
              "</div>\n",
              "      <button class=\"colab-df-convert\" onclick=\"convertToInteractive('df-64ac55b2-3439-42b3-acbb-b7b0298dc81a')\"\n",
              "              title=\"Convert this dataframe to an interactive table.\"\n",
              "              style=\"display:none;\">\n",
              "        \n",
              "  <svg xmlns=\"http://www.w3.org/2000/svg\" height=\"24px\"viewBox=\"0 0 24 24\"\n",
              "       width=\"24px\">\n",
              "    <path d=\"M0 0h24v24H0V0z\" fill=\"none\"/>\n",
              "    <path d=\"M18.56 5.44l.94 2.06.94-2.06 2.06-.94-2.06-.94-.94-2.06-.94 2.06-2.06.94zm-11 1L8.5 8.5l.94-2.06 2.06-.94-2.06-.94L8.5 2.5l-.94 2.06-2.06.94zm10 10l.94 2.06.94-2.06 2.06-.94-2.06-.94-.94-2.06-.94 2.06-2.06.94z\"/><path d=\"M17.41 7.96l-1.37-1.37c-.4-.4-.92-.59-1.43-.59-.52 0-1.04.2-1.43.59L10.3 9.45l-7.72 7.72c-.78.78-.78 2.05 0 2.83L4 21.41c.39.39.9.59 1.41.59.51 0 1.02-.2 1.41-.59l7.78-7.78 2.81-2.81c.8-.78.8-2.07 0-2.86zM5.41 20L4 18.59l7.72-7.72 1.47 1.35L5.41 20z\"/>\n",
              "  </svg>\n",
              "      </button>\n",
              "      \n",
              "  <style>\n",
              "    .colab-df-container {\n",
              "      display:flex;\n",
              "      flex-wrap:wrap;\n",
              "      gap: 12px;\n",
              "    }\n",
              "\n",
              "    .colab-df-convert {\n",
              "      background-color: #E8F0FE;\n",
              "      border: none;\n",
              "      border-radius: 50%;\n",
              "      cursor: pointer;\n",
              "      display: none;\n",
              "      fill: #1967D2;\n",
              "      height: 32px;\n",
              "      padding: 0 0 0 0;\n",
              "      width: 32px;\n",
              "    }\n",
              "\n",
              "    .colab-df-convert:hover {\n",
              "      background-color: #E2EBFA;\n",
              "      box-shadow: 0px 1px 2px rgba(60, 64, 67, 0.3), 0px 1px 3px 1px rgba(60, 64, 67, 0.15);\n",
              "      fill: #174EA6;\n",
              "    }\n",
              "\n",
              "    [theme=dark] .colab-df-convert {\n",
              "      background-color: #3B4455;\n",
              "      fill: #D2E3FC;\n",
              "    }\n",
              "\n",
              "    [theme=dark] .colab-df-convert:hover {\n",
              "      background-color: #434B5C;\n",
              "      box-shadow: 0px 1px 3px 1px rgba(0, 0, 0, 0.15);\n",
              "      filter: drop-shadow(0px 1px 2px rgba(0, 0, 0, 0.3));\n",
              "      fill: #FFFFFF;\n",
              "    }\n",
              "  </style>\n",
              "\n",
              "      <script>\n",
              "        const buttonEl =\n",
              "          document.querySelector('#df-64ac55b2-3439-42b3-acbb-b7b0298dc81a button.colab-df-convert');\n",
              "        buttonEl.style.display =\n",
              "          google.colab.kernel.accessAllowed ? 'block' : 'none';\n",
              "\n",
              "        async function convertToInteractive(key) {\n",
              "          const element = document.querySelector('#df-64ac55b2-3439-42b3-acbb-b7b0298dc81a');\n",
              "          const dataTable =\n",
              "            await google.colab.kernel.invokeFunction('convertToInteractive',\n",
              "                                                     [key], {});\n",
              "          if (!dataTable) return;\n",
              "\n",
              "          const docLinkHtml = 'Like what you see? Visit the ' +\n",
              "            '<a target=\"_blank\" href=https://colab.research.google.com/notebooks/data_table.ipynb>data table notebook</a>'\n",
              "            + ' to learn more about interactive tables.';\n",
              "          element.innerHTML = '';\n",
              "          dataTable['output_type'] = 'display_data';\n",
              "          await google.colab.output.renderOutput(dataTable, element);\n",
              "          const docLink = document.createElement('div');\n",
              "          docLink.innerHTML = docLinkHtml;\n",
              "          element.appendChild(docLink);\n",
              "        }\n",
              "      </script>\n",
              "    </div>\n",
              "  </div>\n",
              "  "
            ],
            "text/plain": [
              "      intercolumnar distance   upper margin  ...  modular ratio  class\n",
              "0                    0.130292     -0.314793  ...       0.400605      A\n",
              "1                   -0.104241     -0.314793  ...      -1.312598      C\n",
              "2                    0.019197     -0.040001  ...      -0.209421      F\n",
              "3                   -0.326430     -0.652394  ...      -3.113659      E\n",
              "4                    0.031541     -0.346197  ...      -1.852354      A\n",
              "...                       ...           ...  ...            ...    ...\n",
              "2081                -3.498799      0.007106  ...      -0.689649      E\n",
              "2082                -0.091897     -0.118513  ...       2.580920      A\n",
              "2083                -0.091897      0.258344  ...       0.004015      W\n",
              "2084                 0.327793      0.501730  ...      -0.740413      G\n",
              "2085                -0.314087      0.360409  ...      -0.134884      D\n",
              "\n",
              "[2086 rows x 11 columns]"
            ]
          },
          "metadata": {},
          "execution_count": 170
        }
      ]
    },
    {
      "cell_type": "code",
      "source": [
        "submission=test.to_csv(\"submit_class.csv\",index=False)"
      ],
      "metadata": {
        "id": "RSmb3F7RsuMu"
      },
      "execution_count": null,
      "outputs": []
    }
  ]
}